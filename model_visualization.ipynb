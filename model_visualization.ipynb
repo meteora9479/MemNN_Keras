{
 "cells": [
  {
   "cell_type": "code",
   "execution_count": 10,
   "metadata": {
    "collapsed": false
   },
   "outputs": [
    {
     "data": {
      "image/svg+xml": [
       "<svg height=\"194pt\" viewBox=\"0.00 0.00 212.00 194.00\" width=\"212pt\" xmlns=\"http://www.w3.org/2000/svg\" xmlns:xlink=\"http://www.w3.org/1999/xlink\">\n",
       "<g class=\"graph\" id=\"graph0\" transform=\"scale(1 1) rotate(0) translate(4 190)\">\n",
       "<title>G</title>\n",
       "<polygon fill=\"white\" points=\"-4,4 -4,-190 208,-190 208,4 -4,4\" stroke=\"none\"/>\n",
       "<!-- 140173245252112 -->\n",
       "<g class=\"node\" id=\"node1\"><title>140173245252112</title>\n",
       "<polygon fill=\"none\" points=\"-0.5,-149 -0.5,-185 204.5,-185 204.5,-149 -0.5,-149\" stroke=\"black\"/>\n",
       "<text font-family=\"Times,serif\" font-size=\"14.00\" text-anchor=\"middle\" x=\"102\" y=\"-163.3\">embedding_input_17 (InputLayer)</text>\n",
       "</g>\n",
       "<!-- 140173239466896 -->\n",
       "<g class=\"node\" id=\"node2\"><title>140173239466896</title>\n",
       "<polygon fill=\"none\" points=\"15.5,-75 15.5,-111 188.5,-111 188.5,-75 15.5,-75\" stroke=\"black\"/>\n",
       "<text font-family=\"Times,serif\" font-size=\"14.00\" text-anchor=\"middle\" x=\"102\" y=\"-89.3\">embedding_17 (Embedding)</text>\n",
       "</g>\n",
       "<!-- 140173245252112&#45;&gt;140173239466896 -->\n",
       "<g class=\"edge\" id=\"edge1\"><title>140173245252112-&gt;140173239466896</title>\n",
       "<path d=\"M102,-148.937C102,-140.807 102,-130.876 102,-121.705\" fill=\"none\" stroke=\"black\"/>\n",
       "<polygon fill=\"black\" points=\"105.5,-121.441 102,-111.441 98.5001,-121.441 105.5,-121.441\" stroke=\"black\"/>\n",
       "</g>\n",
       "<!-- 140173239458704 -->\n",
       "<g class=\"node\" id=\"node3\"><title>140173239458704</title>\n",
       "<polygon fill=\"none\" points=\"33.5,-1 33.5,-37 170.5,-37 170.5,-1 33.5,-1\" stroke=\"black\"/>\n",
       "<text font-family=\"Times,serif\" font-size=\"14.00\" text-anchor=\"middle\" x=\"102\" y=\"-15.3\">dropout_22 (Dropout)</text>\n",
       "</g>\n",
       "<!-- 140173239466896&#45;&gt;140173239458704 -->\n",
       "<g class=\"edge\" id=\"edge2\"><title>140173239466896-&gt;140173239458704</title>\n",
       "<path d=\"M102,-74.937C102,-66.8072 102,-56.8761 102,-47.7047\" fill=\"none\" stroke=\"black\"/>\n",
       "<polygon fill=\"black\" points=\"105.5,-47.4406 102,-37.4407 98.5001,-47.4407 105.5,-47.4406\" stroke=\"black\"/>\n",
       "</g>\n",
       "</g>\n",
       "</svg>"
      ],
      "text/plain": [
       "<IPython.core.display.SVG object>"
      ]
     },
     "execution_count": 10,
     "metadata": {},
     "output_type": "execute_result"
    }
   ],
   "source": [
    "from IPython.display import SVG\n",
    "from keras.utils.visualize_util import model_to_dot\n",
    "\n",
    "from keras.models import Sequential\n",
    "from keras.layers.embeddings import Embedding\n",
    "from keras.layers import Activation, Dense, Merge, Permute, Dropout\n",
    "from keras.layers import LSTM\n",
    "\n",
    "vocab_size = 22\n",
    "story_maxlen = 68\n",
    "query_maxlen = 4\n",
    "\n",
    "# embed the input sequence into a sequence of vectors\n",
    "input_encoder_m = Sequential()\n",
    "input_encoder_m.add(Embedding(input_dim=vocab_size,\n",
    "                              output_dim=64,\n",
    "                              input_length=story_maxlen))\n",
    "input_encoder_m.add(Dropout(0.3))\n",
    "# output: (samples, story_maxlen, embedding_dim)\n",
    "# embed the question into a sequence of vectors\n",
    "question_encoder = Sequential()\n",
    "question_encoder.add(Embedding(input_dim=vocab_size,\n",
    "                               output_dim=64,\n",
    "                               input_length=query_maxlen))\n",
    "question_encoder.add(Dropout(0.3))\n",
    "# output: (samples, query_maxlen, embedding_dim)\n",
    "# compute a 'match' between input sequence elements (which are vectors)\n",
    "# and the question vector sequence\n",
    "match = Sequential()\n",
    "match.add(Merge([input_encoder_m, question_encoder],\n",
    "                mode='dot',\n",
    "                dot_axes=[2, 2]))\n",
    "# output: (samples, story_maxlen, query_maxlen)\n",
    "# embed the input into a single vector with size = story_maxlen:\n",
    "input_encoder_c = Sequential()\n",
    "input_encoder_c.add(Embedding(input_dim=vocab_size,\n",
    "                              output_dim=query_maxlen,\n",
    "                              input_length=story_maxlen))\n",
    "input_encoder_c.add(Dropout(0.3))\n",
    "# output: (samples, story_maxlen, query_maxlen)\n",
    "# sum the match vector with the input vector:\n",
    "response = Sequential()\n",
    "response.add(Merge([match, input_encoder_c], mode='sum'))\n",
    "# output: (samples, story_maxlen, query_maxlen)\n",
    "response.add(Permute((2, 1)))  # output: (samples, query_maxlen, story_maxlen)\n",
    "\n",
    "# concatenate the match vector with the question vector,\n",
    "# and do logistic regression on top\n",
    "answer = Sequential()\n",
    "answer.add(Merge([response, question_encoder], mode='concat', concat_axis=-1))\n",
    "# the original paper uses a matrix multiplication for this reduction step.\n",
    "# we choose to use a RNN instead.\n",
    "answer.add(LSTM(32))\n",
    "# one regularization layer -- more would probably be needed.\n",
    "answer.add(Dropout(0.3))\n",
    "answer.add(Dense(vocab_size))\n",
    "# we output a probability distribution over the vocabulary\n",
    "answer.add(Activation('softmax'))\n",
    "\n",
    "SVG(model_to_dot(input_encoder_m).create(prog='dot', format='svg'))"
   ]
  },
  {
   "cell_type": "code",
   "execution_count": 11,
   "metadata": {
    "collapsed": false
   },
   "outputs": [
    {
     "data": {
      "image/svg+xml": [
       "<svg height=\"194pt\" viewBox=\"0.00 0.00 212.00 194.00\" width=\"212pt\" xmlns=\"http://www.w3.org/2000/svg\" xmlns:xlink=\"http://www.w3.org/1999/xlink\">\n",
       "<g class=\"graph\" id=\"graph0\" transform=\"scale(1 1) rotate(0) translate(4 190)\">\n",
       "<title>G</title>\n",
       "<polygon fill=\"white\" points=\"-4,4 -4,-190 208,-190 208,4 -4,4\" stroke=\"none\"/>\n",
       "<!-- 140173239433104 -->\n",
       "<g class=\"node\" id=\"node1\"><title>140173239433104</title>\n",
       "<polygon fill=\"none\" points=\"-0.5,-149 -0.5,-185 204.5,-185 204.5,-149 -0.5,-149\" stroke=\"black\"/>\n",
       "<text font-family=\"Times,serif\" font-size=\"14.00\" text-anchor=\"middle\" x=\"102\" y=\"-163.3\">embedding_input_18 (InputLayer)</text>\n",
       "</g>\n",
       "<!-- 140173239434000 -->\n",
       "<g class=\"node\" id=\"node2\"><title>140173239434000</title>\n",
       "<polygon fill=\"none\" points=\"15.5,-75 15.5,-111 188.5,-111 188.5,-75 15.5,-75\" stroke=\"black\"/>\n",
       "<text font-family=\"Times,serif\" font-size=\"14.00\" text-anchor=\"middle\" x=\"102\" y=\"-89.3\">embedding_18 (Embedding)</text>\n",
       "</g>\n",
       "<!-- 140173239433104&#45;&gt;140173239434000 -->\n",
       "<g class=\"edge\" id=\"edge1\"><title>140173239433104-&gt;140173239434000</title>\n",
       "<path d=\"M102,-148.937C102,-140.807 102,-130.876 102,-121.705\" fill=\"none\" stroke=\"black\"/>\n",
       "<polygon fill=\"black\" points=\"105.5,-121.441 102,-111.441 98.5001,-121.441 105.5,-121.441\" stroke=\"black\"/>\n",
       "</g>\n",
       "<!-- 140173239458256 -->\n",
       "<g class=\"node\" id=\"node3\"><title>140173239458256</title>\n",
       "<polygon fill=\"none\" points=\"33.5,-1 33.5,-37 170.5,-37 170.5,-1 33.5,-1\" stroke=\"black\"/>\n",
       "<text font-family=\"Times,serif\" font-size=\"14.00\" text-anchor=\"middle\" x=\"102\" y=\"-15.3\">dropout_23 (Dropout)</text>\n",
       "</g>\n",
       "<!-- 140173239434000&#45;&gt;140173239458256 -->\n",
       "<g class=\"edge\" id=\"edge2\"><title>140173239434000-&gt;140173239458256</title>\n",
       "<path d=\"M102,-74.937C102,-66.8072 102,-56.8761 102,-47.7047\" fill=\"none\" stroke=\"black\"/>\n",
       "<polygon fill=\"black\" points=\"105.5,-47.4406 102,-37.4407 98.5001,-47.4407 105.5,-47.4406\" stroke=\"black\"/>\n",
       "</g>\n",
       "</g>\n",
       "</svg>"
      ],
      "text/plain": [
       "<IPython.core.display.SVG object>"
      ]
     },
     "execution_count": 11,
     "metadata": {},
     "output_type": "execute_result"
    }
   ],
   "source": [
    "SVG(model_to_dot(question_encoder).create(prog='dot', format='svg'))"
   ]
  },
  {
   "cell_type": "code",
   "execution_count": 12,
   "metadata": {
    "collapsed": false
   },
   "outputs": [
    {
     "data": {
      "image/svg+xml": [
       "<svg height=\"120pt\" viewBox=\"0.00 0.00 347.00 120.00\" width=\"347pt\" xmlns=\"http://www.w3.org/2000/svg\" xmlns:xlink=\"http://www.w3.org/1999/xlink\">\n",
       "<g class=\"graph\" id=\"graph0\" transform=\"scale(1 1) rotate(0) translate(4 116)\">\n",
       "<title>G</title>\n",
       "<polygon fill=\"white\" points=\"-4,4 -4,-116 343,-116 343,4 -4,4\" stroke=\"none\"/>\n",
       "<!-- 140173239466576 -->\n",
       "<g class=\"node\" id=\"node1\"><title>140173239466576</title>\n",
       "<polygon fill=\"none\" points=\"-0.5,-75 -0.5,-111 160.5,-111 160.5,-75 -0.5,-75\" stroke=\"black\"/>\n",
       "<text font-family=\"Times,serif\" font-size=\"14.00\" text-anchor=\"middle\" x=\"80\" y=\"-89.3\">sequential_35 (Sequential)</text>\n",
       "</g>\n",
       "<!-- 140173240646032 -->\n",
       "<g class=\"node\" id=\"node3\"><title>140173240646032</title>\n",
       "<polygon fill=\"none\" points=\"109,-1 109,-37 229,-37 229,-1 109,-1\" stroke=\"black\"/>\n",
       "<text font-family=\"Times,serif\" font-size=\"14.00\" text-anchor=\"middle\" x=\"169\" y=\"-15.3\">merge_16 (Merge)</text>\n",
       "</g>\n",
       "<!-- 140173239466576&#45;&gt;140173240646032 -->\n",
       "<g class=\"edge\" id=\"edge1\"><title>140173239466576-&gt;140173240646032</title>\n",
       "<path d=\"M101.092,-74.937C112.645,-65.5902 127.142,-53.8625 139.771,-43.6456\" fill=\"none\" stroke=\"black\"/>\n",
       "<polygon fill=\"black\" points=\"142.178,-46.2006 147.751,-37.19 137.775,-40.7585 142.178,-46.2006\" stroke=\"black\"/>\n",
       "</g>\n",
       "<!-- 140173239459024 -->\n",
       "<g class=\"node\" id=\"node2\"><title>140173239459024</title>\n",
       "<polygon fill=\"none\" points=\"178.5,-75 178.5,-111 339.5,-111 339.5,-75 178.5,-75\" stroke=\"black\"/>\n",
       "<text font-family=\"Times,serif\" font-size=\"14.00\" text-anchor=\"middle\" x=\"259\" y=\"-89.3\">sequential_36 (Sequential)</text>\n",
       "</g>\n",
       "<!-- 140173239459024&#45;&gt;140173240646032 -->\n",
       "<g class=\"edge\" id=\"edge2\"><title>140173239459024-&gt;140173240646032</title>\n",
       "<path d=\"M237.671,-74.937C225.988,-65.5902 211.328,-53.8625 198.557,-43.6456\" fill=\"none\" stroke=\"black\"/>\n",
       "<polygon fill=\"black\" points=\"200.483,-40.704 190.488,-37.19 196.11,-46.1701 200.483,-40.704\" stroke=\"black\"/>\n",
       "</g>\n",
       "</g>\n",
       "</svg>"
      ],
      "text/plain": [
       "<IPython.core.display.SVG object>"
      ]
     },
     "execution_count": 12,
     "metadata": {},
     "output_type": "execute_result"
    }
   ],
   "source": [
    "SVG(model_to_dot(match).create(prog='dot', format='svg'))"
   ]
  },
  {
   "cell_type": "code",
   "execution_count": 13,
   "metadata": {
    "collapsed": false
   },
   "outputs": [
    {
     "data": {
      "image/svg+xml": [
       "<svg height=\"194pt\" viewBox=\"0.00 0.00 212.00 194.00\" width=\"212pt\" xmlns=\"http://www.w3.org/2000/svg\" xmlns:xlink=\"http://www.w3.org/1999/xlink\">\n",
       "<g class=\"graph\" id=\"graph0\" transform=\"scale(1 1) rotate(0) translate(4 190)\">\n",
       "<title>G</title>\n",
       "<polygon fill=\"white\" points=\"-4,4 -4,-190 208,-190 208,4 -4,4\" stroke=\"none\"/>\n",
       "<!-- 140173240647440 -->\n",
       "<g class=\"node\" id=\"node1\"><title>140173240647440</title>\n",
       "<polygon fill=\"none\" points=\"-0.5,-149 -0.5,-185 204.5,-185 204.5,-149 -0.5,-149\" stroke=\"black\"/>\n",
       "<text font-family=\"Times,serif\" font-size=\"14.00\" text-anchor=\"middle\" x=\"102\" y=\"-163.3\">embedding_input_19 (InputLayer)</text>\n",
       "</g>\n",
       "<!-- 140173645290064 -->\n",
       "<g class=\"node\" id=\"node2\"><title>140173645290064</title>\n",
       "<polygon fill=\"none\" points=\"15.5,-75 15.5,-111 188.5,-111 188.5,-75 15.5,-75\" stroke=\"black\"/>\n",
       "<text font-family=\"Times,serif\" font-size=\"14.00\" text-anchor=\"middle\" x=\"102\" y=\"-89.3\">embedding_19 (Embedding)</text>\n",
       "</g>\n",
       "<!-- 140173240647440&#45;&gt;140173645290064 -->\n",
       "<g class=\"edge\" id=\"edge1\"><title>140173240647440-&gt;140173645290064</title>\n",
       "<path d=\"M102,-148.937C102,-140.807 102,-130.876 102,-121.705\" fill=\"none\" stroke=\"black\"/>\n",
       "<polygon fill=\"black\" points=\"105.5,-121.441 102,-111.441 98.5001,-121.441 105.5,-121.441\" stroke=\"black\"/>\n",
       "</g>\n",
       "<!-- 140173645291024 -->\n",
       "<g class=\"node\" id=\"node3\"><title>140173645291024</title>\n",
       "<polygon fill=\"none\" points=\"33.5,-1 33.5,-37 170.5,-37 170.5,-1 33.5,-1\" stroke=\"black\"/>\n",
       "<text font-family=\"Times,serif\" font-size=\"14.00\" text-anchor=\"middle\" x=\"102\" y=\"-15.3\">dropout_24 (Dropout)</text>\n",
       "</g>\n",
       "<!-- 140173645290064&#45;&gt;140173645291024 -->\n",
       "<g class=\"edge\" id=\"edge2\"><title>140173645290064-&gt;140173645291024</title>\n",
       "<path d=\"M102,-74.937C102,-66.8072 102,-56.8761 102,-47.7047\" fill=\"none\" stroke=\"black\"/>\n",
       "<polygon fill=\"black\" points=\"105.5,-47.4406 102,-37.4407 98.5001,-47.4407 105.5,-47.4406\" stroke=\"black\"/>\n",
       "</g>\n",
       "</g>\n",
       "</svg>"
      ],
      "text/plain": [
       "<IPython.core.display.SVG object>"
      ]
     },
     "execution_count": 13,
     "metadata": {},
     "output_type": "execute_result"
    }
   ],
   "source": [
    "SVG(model_to_dot(input_encoder_c).create(prog='dot', format='svg'))"
   ]
  },
  {
   "cell_type": "code",
   "execution_count": 14,
   "metadata": {
    "collapsed": false
   },
   "outputs": [
    {
     "data": {
      "image/svg+xml": [
       "<svg height=\"194pt\" viewBox=\"0.00 0.00 347.00 194.00\" width=\"347pt\" xmlns=\"http://www.w3.org/2000/svg\" xmlns:xlink=\"http://www.w3.org/1999/xlink\">\n",
       "<g class=\"graph\" id=\"graph0\" transform=\"scale(1 1) rotate(0) translate(4 190)\">\n",
       "<title>G</title>\n",
       "<polygon fill=\"white\" points=\"-4,4 -4,-190 343,-190 343,4 -4,4\" stroke=\"none\"/>\n",
       "<!-- 140173240670992 -->\n",
       "<g class=\"node\" id=\"node1\"><title>140173240670992</title>\n",
       "<polygon fill=\"none\" points=\"-0.5,-149 -0.5,-185 160.5,-185 160.5,-149 -0.5,-149\" stroke=\"black\"/>\n",
       "<text font-family=\"Times,serif\" font-size=\"14.00\" text-anchor=\"middle\" x=\"80\" y=\"-163.3\">sequential_37 (Sequential)</text>\n",
       "</g>\n",
       "<!-- 140173239569424 -->\n",
       "<g class=\"node\" id=\"node3\"><title>140173239569424</title>\n",
       "<polygon fill=\"none\" points=\"109,-75 109,-111 229,-111 229,-75 109,-75\" stroke=\"black\"/>\n",
       "<text font-family=\"Times,serif\" font-size=\"14.00\" text-anchor=\"middle\" x=\"169\" y=\"-89.3\">merge_17 (Merge)</text>\n",
       "</g>\n",
       "<!-- 140173240670992&#45;&gt;140173239569424 -->\n",
       "<g class=\"edge\" id=\"edge1\"><title>140173240670992-&gt;140173239569424</title>\n",
       "<path d=\"M101.092,-148.937C112.645,-139.59 127.142,-127.863 139.771,-117.646\" fill=\"none\" stroke=\"black\"/>\n",
       "<polygon fill=\"black\" points=\"142.178,-120.201 147.751,-111.19 137.775,-114.758 142.178,-120.201\" stroke=\"black\"/>\n",
       "</g>\n",
       "<!-- 140173240670224 -->\n",
       "<g class=\"node\" id=\"node2\"><title>140173240670224</title>\n",
       "<polygon fill=\"none\" points=\"178.5,-149 178.5,-185 339.5,-185 339.5,-149 178.5,-149\" stroke=\"black\"/>\n",
       "<text font-family=\"Times,serif\" font-size=\"14.00\" text-anchor=\"middle\" x=\"259\" y=\"-163.3\">sequential_38 (Sequential)</text>\n",
       "</g>\n",
       "<!-- 140173240670224&#45;&gt;140173239569424 -->\n",
       "<g class=\"edge\" id=\"edge2\"><title>140173240670224-&gt;140173239569424</title>\n",
       "<path d=\"M237.671,-148.937C225.988,-139.59 211.328,-127.863 198.557,-117.646\" fill=\"none\" stroke=\"black\"/>\n",
       "<polygon fill=\"black\" points=\"200.483,-114.704 190.488,-111.19 196.11,-120.17 200.483,-114.704\" stroke=\"black\"/>\n",
       "</g>\n",
       "<!-- 140173241113168 -->\n",
       "<g class=\"node\" id=\"node4\"><title>140173241113168</title>\n",
       "<polygon fill=\"none\" points=\"102,-1 102,-37 236,-37 236,-1 102,-1\" stroke=\"black\"/>\n",
       "<text font-family=\"Times,serif\" font-size=\"14.00\" text-anchor=\"middle\" x=\"169\" y=\"-15.3\">permute_6 (Permute)</text>\n",
       "</g>\n",
       "<!-- 140173239569424&#45;&gt;140173241113168 -->\n",
       "<g class=\"edge\" id=\"edge3\"><title>140173239569424-&gt;140173241113168</title>\n",
       "<path d=\"M169,-74.937C169,-66.8072 169,-56.8761 169,-47.7047\" fill=\"none\" stroke=\"black\"/>\n",
       "<polygon fill=\"black\" points=\"172.5,-47.4406 169,-37.4407 165.5,-47.4407 172.5,-47.4406\" stroke=\"black\"/>\n",
       "</g>\n",
       "</g>\n",
       "</svg>"
      ],
      "text/plain": [
       "<IPython.core.display.SVG object>"
      ]
     },
     "execution_count": 14,
     "metadata": {},
     "output_type": "execute_result"
    }
   ],
   "source": [
    "SVG(model_to_dot(response).create(prog='dot', format='svg'))"
   ]
  },
  {
   "cell_type": "code",
   "execution_count": 15,
   "metadata": {
    "collapsed": false
   },
   "outputs": [
    {
     "data": {
      "image/svg+xml": [
       "<svg height=\"416pt\" viewBox=\"0.00 0.00 347.00 416.00\" width=\"347pt\" xmlns=\"http://www.w3.org/2000/svg\" xmlns:xlink=\"http://www.w3.org/1999/xlink\">\n",
       "<g class=\"graph\" id=\"graph0\" transform=\"scale(1 1) rotate(0) translate(4 412)\">\n",
       "<title>G</title>\n",
       "<polygon fill=\"white\" points=\"-4,4 -4,-412 343,-412 343,4 -4,4\" stroke=\"none\"/>\n",
       "<!-- 140173239459024 -->\n",
       "<g class=\"node\" id=\"node1\"><title>140173239459024</title>\n",
       "<polygon fill=\"none\" points=\"-0.5,-371 -0.5,-407 160.5,-407 160.5,-371 -0.5,-371\" stroke=\"black\"/>\n",
       "<text font-family=\"Times,serif\" font-size=\"14.00\" text-anchor=\"middle\" x=\"80\" y=\"-385.3\">sequential_36 (Sequential)</text>\n",
       "</g>\n",
       "<!-- 140173241113808 -->\n",
       "<g class=\"node\" id=\"node3\"><title>140173241113808</title>\n",
       "<polygon fill=\"none\" points=\"109,-297 109,-333 229,-333 229,-297 109,-297\" stroke=\"black\"/>\n",
       "<text font-family=\"Times,serif\" font-size=\"14.00\" text-anchor=\"middle\" x=\"169\" y=\"-311.3\">merge_18 (Merge)</text>\n",
       "</g>\n",
       "<!-- 140173239459024&#45;&gt;140173241113808 -->\n",
       "<g class=\"edge\" id=\"edge2\"><title>140173239459024-&gt;140173241113808</title>\n",
       "<path d=\"M101.092,-370.937C112.645,-361.59 127.142,-349.863 139.771,-339.646\" fill=\"none\" stroke=\"black\"/>\n",
       "<polygon fill=\"black\" points=\"142.178,-342.201 147.751,-333.19 137.775,-336.758 142.178,-342.201\" stroke=\"black\"/>\n",
       "</g>\n",
       "<!-- 140173240191184 -->\n",
       "<g class=\"node\" id=\"node2\"><title>140173240191184</title>\n",
       "<polygon fill=\"none\" points=\"178.5,-371 178.5,-407 339.5,-407 339.5,-371 178.5,-371\" stroke=\"black\"/>\n",
       "<text font-family=\"Times,serif\" font-size=\"14.00\" text-anchor=\"middle\" x=\"259\" y=\"-385.3\">sequential_39 (Sequential)</text>\n",
       "</g>\n",
       "<!-- 140173240191184&#45;&gt;140173241113808 -->\n",
       "<g class=\"edge\" id=\"edge1\"><title>140173240191184-&gt;140173241113808</title>\n",
       "<path d=\"M237.671,-370.937C225.988,-361.59 211.328,-349.863 198.557,-339.646\" fill=\"none\" stroke=\"black\"/>\n",
       "<polygon fill=\"black\" points=\"200.483,-336.704 190.488,-333.19 196.11,-342.17 200.483,-336.704\" stroke=\"black\"/>\n",
       "</g>\n",
       "<!-- 140173241113040 -->\n",
       "<g class=\"node\" id=\"node4\"><title>140173241113040</title>\n",
       "<polygon fill=\"none\" points=\"117,-223 117,-259 221,-259 221,-223 117,-223\" stroke=\"black\"/>\n",
       "<text font-family=\"Times,serif\" font-size=\"14.00\" text-anchor=\"middle\" x=\"169\" y=\"-237.3\">lstm_6 (LSTM)</text>\n",
       "</g>\n",
       "<!-- 140173241113808&#45;&gt;140173241113040 -->\n",
       "<g class=\"edge\" id=\"edge3\"><title>140173241113808-&gt;140173241113040</title>\n",
       "<path d=\"M169,-296.937C169,-288.807 169,-278.876 169,-269.705\" fill=\"none\" stroke=\"black\"/>\n",
       "<polygon fill=\"black\" points=\"172.5,-269.441 169,-259.441 165.5,-269.441 172.5,-269.441\" stroke=\"black\"/>\n",
       "</g>\n",
       "<!-- 140173241114448 -->\n",
       "<g class=\"node\" id=\"node5\"><title>140173241114448</title>\n",
       "<polygon fill=\"none\" points=\"100.5,-149 100.5,-185 237.5,-185 237.5,-149 100.5,-149\" stroke=\"black\"/>\n",
       "<text font-family=\"Times,serif\" font-size=\"14.00\" text-anchor=\"middle\" x=\"169\" y=\"-163.3\">dropout_25 (Dropout)</text>\n",
       "</g>\n",
       "<!-- 140173241113040&#45;&gt;140173241114448 -->\n",
       "<g class=\"edge\" id=\"edge4\"><title>140173241113040-&gt;140173241114448</title>\n",
       "<path d=\"M169,-222.937C169,-214.807 169,-204.876 169,-195.705\" fill=\"none\" stroke=\"black\"/>\n",
       "<polygon fill=\"black\" points=\"172.5,-195.441 169,-185.441 165.5,-195.441 172.5,-195.441\" stroke=\"black\"/>\n",
       "</g>\n",
       "<!-- 140173645290192 -->\n",
       "<g class=\"node\" id=\"node6\"><title>140173645290192</title>\n",
       "<polygon fill=\"none\" points=\"115.5,-75 115.5,-111 222.5,-111 222.5,-75 115.5,-75\" stroke=\"black\"/>\n",
       "<text font-family=\"Times,serif\" font-size=\"14.00\" text-anchor=\"middle\" x=\"169\" y=\"-89.3\">dense_6 (Dense)</text>\n",
       "</g>\n",
       "<!-- 140173241114448&#45;&gt;140173645290192 -->\n",
       "<g class=\"edge\" id=\"edge5\"><title>140173241114448-&gt;140173645290192</title>\n",
       "<path d=\"M169,-148.937C169,-140.807 169,-130.876 169,-121.705\" fill=\"none\" stroke=\"black\"/>\n",
       "<polygon fill=\"black\" points=\"172.5,-121.441 169,-111.441 165.5,-121.441 172.5,-121.441\" stroke=\"black\"/>\n",
       "</g>\n",
       "<!-- 140173239600784 -->\n",
       "<g class=\"node\" id=\"node7\"><title>140173239600784</title>\n",
       "<polygon fill=\"none\" points=\"92.5,-1 92.5,-37 245.5,-37 245.5,-1 92.5,-1\" stroke=\"black\"/>\n",
       "<text font-family=\"Times,serif\" font-size=\"14.00\" text-anchor=\"middle\" x=\"169\" y=\"-15.3\">activation_6 (Activation)</text>\n",
       "</g>\n",
       "<!-- 140173645290192&#45;&gt;140173239600784 -->\n",
       "<g class=\"edge\" id=\"edge6\"><title>140173645290192-&gt;140173239600784</title>\n",
       "<path d=\"M169,-74.937C169,-66.8072 169,-56.8761 169,-47.7047\" fill=\"none\" stroke=\"black\"/>\n",
       "<polygon fill=\"black\" points=\"172.5,-47.4406 169,-37.4407 165.5,-47.4407 172.5,-47.4406\" stroke=\"black\"/>\n",
       "</g>\n",
       "</g>\n",
       "</svg>"
      ],
      "text/plain": [
       "<IPython.core.display.SVG object>"
      ]
     },
     "execution_count": 15,
     "metadata": {},
     "output_type": "execute_result"
    }
   ],
   "source": [
    "SVG(model_to_dot(answer).create(prog='dot', format='svg'))"
   ]
  },
  {
   "cell_type": "code",
   "execution_count": null,
   "metadata": {
    "collapsed": true
   },
   "outputs": [],
   "source": []
  }
 ],
 "metadata": {
  "kernelspec": {
   "display_name": "Python 2",
   "language": "python",
   "name": "python2"
  },
  "language_info": {
   "codemirror_mode": {
    "name": "ipython",
    "version": 2
   },
   "file_extension": ".py",
   "mimetype": "text/x-python",
   "name": "python",
   "nbconvert_exporter": "python",
   "pygments_lexer": "ipython2",
   "version": "2.7.6"
  }
 },
 "nbformat": 4,
 "nbformat_minor": 0
}
